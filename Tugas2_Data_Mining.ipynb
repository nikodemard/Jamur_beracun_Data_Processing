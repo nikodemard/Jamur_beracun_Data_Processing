{
  "nbformat": 4,
  "nbformat_minor": 0,
  "metadata": {
    "colab": {
      "provenance": []
    },
    "kernelspec": {
      "name": "python3",
      "display_name": "Python 3"
    },
    "language_info": {
      "name": "python"
    }
  },
  "cells": [
    {
      "cell_type": "code",
      "execution_count": 23,
      "metadata": {
        "id": "XIW0ZQJ0X-Ft"
      },
      "outputs": [],
      "source": [
        "#Import Libary yang di gunakan\n",
        "import numpy as np\n",
        "import matplotlib.pyplot as plt\n",
        "import pandas as pd\n",
        "from sklearn.preprocessing import LabelEncoder\n",
        "from sklearn.model_selection import train_test_split\n",
        "from sklearn.preprocessing import StandardScaler"
      ]
    },
    {
      "cell_type": "code",
      "source": [
        "#Import dataset yang di gunakan\n",
        "dataset = pd.read_excel('Ciri_jamur.xlsx')\n",
        "X = dataset.iloc[:, :-1].values\n",
        "Y = dataset.iloc[:, -1].values"
      ],
      "metadata": {
        "id": "FluXkg8xYarj"
      },
      "execution_count": 9,
      "outputs": []
    },
    {
      "cell_type": "code",
      "source": [
        "print(X)"
      ],
      "metadata": {
        "colab": {
          "base_uri": "https://localhost:8080/"
        },
        "id": "HB1SOMfpYl1Z",
        "outputId": "134f7721-6ac7-413e-fffa-a1ab64b594ac"
      },
      "execution_count": 4,
      "outputs": [
        {
          "output_type": "stream",
          "name": "stdout",
          "text": [
            "[['Cembung' 'Halus' 'Coklat' ... 'Hitam' 'Tersebar' 'Perkotaan']\n",
            " ['Cembung' 'Halus' 'Kuning' ... 'coklat' 'Banyak' 'Rumput Rumputan']\n",
            " ['Lonceng' 'Halus' 'Putih' ... 'coklat' 'Banyak' 'Padang Rumput']\n",
            " ...\n",
            " ['Datar' 'Halus' 'Coklat' ... 'Buff' 'Berkerumun' 'Dedaunan']\n",
            " ['kenop' 'Bersisik' 'Coklat' ... 'Putih' 'Beberapa' 'Dedaunan']\n",
            " ['Cembung' 'Halus' 'Coklat' ... 'Orange' 'Berkerumun' 'Dedaunan']]\n"
          ]
        }
      ]
    },
    {
      "cell_type": "code",
      "source": [
        "print(Y)"
      ],
      "metadata": {
        "colab": {
          "base_uri": "https://localhost:8080/"
        },
        "id": "iBvn4KC0YqPZ",
        "outputId": "3a1940e0-f66f-4e53-ccfc-3ae581a5aade"
      },
      "execution_count": 5,
      "outputs": [
        {
          "output_type": "stream",
          "name": "stdout",
          "text": [
            "['Beracun' 'Tidak Beracun' 'Tidak Beracun' ... 'Tidak Beracun' 'Beracun'\n",
            " 'Tidak Beracun']\n"
          ]
        }
      ]
    },
    {
      "cell_type": "code",
      "source": [
        "#Encoding Data Kategori\n",
        "label_encoder = LabelEncoder()\n",
        "for i in range(X.shape[1]):\n",
        "    if isinstance(X[0,i], str):\n",
        "        X[:, i] = label_encoder.fit_transform(X[:, i])\n",
        "print(X)"
      ],
      "metadata": {
        "colab": {
          "base_uri": "https://localhost:8080/"
        },
        "id": "l2FQjt6XYz67",
        "outputId": "800771d2-ddaa-48b4-871b-a89697567158"
      },
      "execution_count": 19,
      "outputs": [
        {
          "output_type": "stream",
          "name": "stdout",
          "text": [
            "[[1 2 3 ... 3 5 5]\n",
            " [1 2 5 ... 8 0 6]\n",
            " [4 2 8 ... 8 0 4]\n",
            " ...\n",
            " [2 2 3 ... 0 2 0]\n",
            " [5 1 3 ... 6 1 0]\n",
            " [1 2 3 ... 5 2 0]]\n"
          ]
        }
      ]
    },
    {
      "cell_type": "code",
      "source": [
        "#Encoding Data Class/Label\n",
        "le = LabelEncoder()\n",
        "Y = le.fit_transform(Y)\n",
        "print(Y)"
      ],
      "metadata": {
        "colab": {
          "base_uri": "https://localhost:8080/"
        },
        "id": "ytN-p63oZArC",
        "outputId": "75039a1a-e2fd-48ec-ab8d-8a0b2bb88024"
      },
      "execution_count": 20,
      "outputs": [
        {
          "output_type": "stream",
          "name": "stdout",
          "text": [
            "[0 1 1 ... 1 0 1]\n"
          ]
        }
      ]
    },
    {
      "cell_type": "code",
      "source": [
        "#embagi dataset kedalam traning set dan test set\n",
        "X_train, X_test, Y_train, Y_test = train_test_split(X, Y, test_size = 0.2, random_state=1)\n",
        "print(\"\")\n",
        "print(\"X_train\")\n",
        "print(X_train)\n",
        "print(\"\")\n",
        "print(\"X_test\")\n",
        "print(X_test)\n",
        "print(\"\")\n",
        "print(\"Y_train\")\n",
        "print(Y_train)\n",
        "print(\"\")\n",
        "print(\"Y_test\")\n",
        "print(Y_test)"
      ],
      "metadata": {
        "colab": {
          "base_uri": "https://localhost:8080/"
        },
        "id": "TqBaR4srZKji",
        "outputId": "3b051569-88e1-4cb0-89e7-d30de809a00c"
      },
      "execution_count": 22,
      "outputs": [
        {
          "output_type": "stream",
          "name": "stdout",
          "text": [
            "\n",
            "X_train\n",
            "[[1 0 3 ... 3 3 6]\n",
            " [1 2 0 ... 3 5 6]\n",
            " [1 1 6 ... 6 1 1]\n",
            " ...\n",
            " [2 1 0 ... 1 1 6]\n",
            " [1 0 8 ... 8 1 1]\n",
            " [1 2 1 ... 1 1 6]]\n",
            "\n",
            "X_test\n",
            "[[2 2 8 ... 3 3 6]\n",
            " [1 0 7 ... 8 1 1]\n",
            " [1 2 8 ... 8 1 1]\n",
            " ...\n",
            " [1 2 3 ... 6 1 1]\n",
            " [1 2 3 ... 8 3 6]\n",
            " [4 2 3 ... 0 1 0]]\n",
            "\n",
            "Y_train\n",
            "[1 1 0 ... 0 1 0]\n",
            "\n",
            "Y_test\n",
            "[1 0 0 ... 0 1 1]\n"
          ]
        }
      ]
    },
    {
      "cell_type": "code",
      "source": [
        "#Scalling data dengan standardScaler\n",
        "sc = StandardScaler()\n",
        "X_train[:, 3:] = sc.fit_transform(X_train[:, 3:])\n",
        "X_test[:, 3:] = sc.transform(X_test[:, 3:])\n",
        "\n",
        "print(\"\")\n",
        "print(\"X_train\")\n",
        "print(X_train)\n",
        "print(\"\")\n",
        "print(\"X_test\")\n",
        "print(X_test)\n"
      ],
      "metadata": {
        "colab": {
          "base_uri": "https://localhost:8080/"
        },
        "id": "sR309k2NZVES",
        "outputId": "c09d7009-127f-4666-a3a1-94cead1c5c13"
      },
      "execution_count": 24,
      "outputs": [
        {
          "output_type": "stream",
          "name": "stdout",
          "text": [
            "\n",
            "X_train\n",
            "[[1 0 3 ... -0.6555473440907293 0.4023890963295805 1.4599515156577616]\n",
            " [1 2 0 ... -0.6555473440907293 1.586240041121769 1.4599515156577616]\n",
            " [1 1 6 ... 0.4964316164984507 -0.7814618484626079 -0.7497985659156216]\n",
            " ...\n",
            " [2 1 0 ... -1.4235333178168492 -0.7814618484626079 1.4599515156577616]\n",
            " [1 0 8 ... 1.2644175902245707 -0.7814618484626079 -0.7497985659156216]\n",
            " [1 2 1 ... -1.4235333178168492 -0.7814618484626079 1.4599515156577616]]\n",
            "\n",
            "X_test\n",
            "[[2 2 8 ... -0.6555473440907293 0.4023890963295805 1.4599515156577616]\n",
            " [1 0 7 ... 1.2644175902245707 -0.7814618484626079 -0.7497985659156216]\n",
            " [1 2 8 ... 1.2644175902245707 -0.7814618484626079 -0.7497985659156216]\n",
            " ...\n",
            " [1 2 3 ... 0.4964316164984507 -0.7814618484626079 -0.7497985659156216]\n",
            " [1 2 3 ... 1.2644175902245707 0.4023890963295805 1.4599515156577616]\n",
            " [4 2 3 ... -1.8075263046799093 -0.7814618484626079 -1.1917485822302982]]\n"
          ]
        }
      ]
    }
  ]
}